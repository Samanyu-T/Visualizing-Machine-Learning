{
  "nbformat": 4,
  "nbformat_minor": 0,
  "metadata": {
    "colab": {
      "provenance": [],
      "collapsed_sections": [
        "cSFUaof0X2uu"
      ],
      "include_colab_link": true
    },
    "kernelspec": {
      "name": "python3",
      "display_name": "Python 3"
    },
    "language_info": {
      "name": "python"
    }
  },
  "cells": [
    {
      "cell_type": "markdown",
      "metadata": {
        "id": "view-in-github",
        "colab_type": "text"
      },
      "source": [
        "<a href=\"https://colab.research.google.com/github/Samanyu-T/Visualizing-Machine-Learning/blob/main/Basics_of_Linear_Regression.ipynb\" target=\"_parent\"><img src=\"https://colab.research.google.com/assets/colab-badge.svg\" alt=\"Open In Colab\"/></a>"
      ]
    },
    {
      "cell_type": "code",
      "execution_count": null,
      "metadata": {
        "id": "BPPNTjUkW9pN"
      },
      "outputs": [],
      "source": [
        "import numpy as np\n",
        "from sklearn import linear_model\n",
        "import seaborn as sns\n",
        "import pandas as pd"
      ]
    },
    {
      "cell_type": "markdown",
      "source": [
        "\n",
        "\n",
        "# What is Regression?\n",
        "Regression involves finding a continuous relationship between an independent variable $X$ and the dependent variable $Y$. \n",
        "\n",
        "For example let a model be defined by:\n",
        "\n",
        "\\begin{equation}\n",
        "\\hat{Y_i} = f(X_i, w) + e_i\n",
        "\\end{equation}\n",
        "\n",
        "Where $w$ are the parameters of the model we are trying to learn and $e_i$ \n",
        "indicates the noise of the process.\n",
        "<br><br>\n",
        "\n",
        "In Linear Regression we make the assumption that $f$ is a linear and so we can simplify the general expression to the following: \n",
        "\n",
        "\\begin{equation}\n",
        "\\hat{Y_i} = w^T\\phi(X_i) + e_i = w_1\\phi_1 + w_2\\phi_2 + ... w_n\\phi_n + e_i\n",
        "\\end{equation}\n",
        "<br>\n",
        "\n",
        "\n",
        "Where $\\phi$ is a feature vector, we are free to choose the features when we design the model. An example would be a polynomial features, in this case $\\phi$ would be : $\\phi = [1, x, x^2 ... x^n]$, other examples would be sinusoids (think of Fourier Series), gaussians etc. The number of features $n$ is also a  hyper-parameter and a poor choice can result in overfitting - more on that later."
      ],
      "metadata": {
        "id": "cSFUaof0X2uu"
      }
    },
    {
      "cell_type": "markdown",
      "source": [
        "#How do we train our model?\n",
        "In a regression model we try to find the $w$ (weights), which **minimize** a loss function. Now the question is how do we define the loss function?\n",
        "<br><br>\n",
        "Well there is no simple answer as this is the heart of machine learning, by coming up with different loss functions we can change our model. \n",
        "\n",
        "A widely used loss is simply the least squares, which adds up the difference between our prediction and the true data point.\n",
        "\n",
        "\\begin{equation}\n",
        "L = \\sum_{i=1}^N{(w^Tx_i - y_i)^2} \n",
        "\\end{equation}\n",
        "\n",
        "\\begin{equation}\n",
        "w^* = \\text{argmin}_w(L(w,D))\n",
        "\\end{equation}\n",
        "\n",
        "So the weight vector we choose will be such that it minimizes this loss for our data $D$. The minimization can be done analytically using calculus or more generally using gradient descent methods. \n",
        "\n",
        "The minimization is the part of machine learning which is so computationally intensive, and so any optimizations or simplifications we can make during this step would be great. \n",
        "\n",
        "\n",
        "Now lets see how well it works !!"
      ],
      "metadata": {
        "id": "lE2wW5dfKHVS"
      }
    },
    {
      "cell_type": "code",
      "source": [
        "#@title\n",
        "#Evaluate Functions for a given function and x\n",
        "def Basis(func, x, i):\n",
        "  \n",
        "  if func == 'Poly':\n",
        "    return x**i\n",
        "\n",
        "  elif func == 'Sine':\n",
        "    return np.sin(i*x)"
      ],
      "metadata": {
        "cellView": "form",
        "id": "v1mHAkS0NxSO"
      },
      "execution_count": null,
      "outputs": []
    },
    {
      "cell_type": "code",
      "source": [
        "#@title\n",
        "#Randomly make a model with some noise\n",
        "def Model(func, x, n, w, noise):\n",
        "\n",
        "    #Ininitialise the phi matix\n",
        "    phi = np.zeros( (n, len(x)) )\n",
        "\n",
        "    #Evaluate the phi matrix for a given Basis\n",
        "    for i in range (n):\n",
        "      phi[i] = Basis(func, x, i)\n",
        "\n",
        "    #Add the noise to the model to find the data points\n",
        "    y = w@phi + np.random.normal(0,noise, len(x))\n",
        "\n",
        "    #Now Return the Modelled Data and True Weights\n",
        "    return y"
      ],
      "metadata": {
        "id": "59uThHWtElz2",
        "cellView": "form"
      },
      "execution_count": null,
      "outputs": []
    },
    {
      "cell_type": "code",
      "source": [
        "#@title\n",
        "#Estimate the weight vector using sklearn for a given basis and complexity\n",
        "def EstimateWeights(x, y, func, n, alpha):\n",
        "\n",
        "    #Ininitialise the phi matix\n",
        "    phi = np.zeros( (n, len(x)) )\n",
        "    \n",
        "    #Evaluate the phi matrix for a given Basis\n",
        "    for i in range(n):\n",
        "      phi[i] = Basis(func, x, i)\n",
        "\n",
        "    phi = np.transpose(phi)\n",
        "\n",
        "    #Use the sklearn module to fit the data using the Various Methods\n",
        "    w_ols = linear_model.LinearRegression()\n",
        "    w_ols.fit(phi, y)\n",
        "\n",
        "    w_l2 = linear_model.Ridge(alpha = alpha)\n",
        "    w_l2.fit(phi,y)\n",
        "\n",
        "    w_l1 = linear_model.Lasso(alpha = alpha)\n",
        "    w_l1.fit(phi,y)\n",
        "\n",
        "    return [w_ols, w_l2, w_l1]"
      ],
      "metadata": {
        "id": "OpZNzUjaOm3l",
        "cellView": "form"
      },
      "execution_count": null,
      "outputs": []
    },
    {
      "cell_type": "code",
      "source": [
        "#@title\n",
        "\n",
        "def Prediction_Linear_Reg(data_params, hyper_params):\n",
        "  ''' These are the parameters we can control - so by changing these we can find ways to visualize \n",
        "  these methods '''\n",
        "  #Initialise the x-vector\n",
        "  x_data = np.linspace(0,1,data_params['N'])\n",
        "\n",
        "  #Initialize a dictionary to store the data\n",
        "  data = {}\n",
        "\n",
        "  ''' End of Initialization'''\n",
        "\n",
        "  #Evaluate the true model\n",
        "  y_data = Model(hyper_params['func'], x_data,  data_params['true_order'], data_params['w_true'], data_params['noise']) \n",
        "\n",
        "  #Now loop through various complexities and plot their estimates\n",
        "  n_plot = 200 \n",
        "  x_plot = np.linspace(-data_params['extrapolation_range'],1 + data_params['extrapolation_range'], n_plot)\n",
        "  data['x'] = x_plot\n",
        "\n",
        "\n",
        "  for i in range(hyper_params['order_min'],hyper_params['order_max']):\n",
        "      #Ininitialise the phi matix\n",
        "      phi_plot = np.zeros( (i, len(x_plot)) )\n",
        "\n",
        "      #Evaluate the phi matrix for a given Basis\n",
        "      for j in range(i):\n",
        "        phi_plot[j] = Basis(hyper_params['func'], x_plot, j)\n",
        "\n",
        "      [w_ols, w_l2, w_l1] = EstimateWeights(x_data,y_data, hyper_params['func'] ,i, hyper_params['alpha'])\n",
        "\n",
        "      y_ols = w_ols.predict(np.transpose(phi_plot))\n",
        "      y_l1 = w_l1.predict(np.transpose(phi_plot))\n",
        "      y_l2 = w_l2.predict(np.transpose(phi_plot))\n",
        "\n",
        "      #Store all the different data - you can split this up into data_ols, data_l1 etc. to plot them seperately \n",
        "      data[str(i) + ' ols'] = y_ols\n",
        "      data[str(i) + ' L1'] = y_l1\n",
        "      data[str(i) + ' L2'] = y_l2\n",
        "\n",
        "  #Create a table of the data - print(df) to see what its doing\n",
        "  df= pd.DataFrame.from_dict(data)\n",
        "\n",
        "  #Convert this into a long table again - print(df) to see what its doing\n",
        "  dfm = df.melt('x', var_name='Type', value_name='y')\n",
        "  return dfm, x_data, y_data "
      ],
      "metadata": {
        "id": "f6y9c16gOxJx",
        "cellView": "form"
      },
      "execution_count": null,
      "outputs": []
    },
    {
      "cell_type": "code",
      "source": [
        "#@title\n",
        "data_params = {}\n",
        "hyper_params = {}\n",
        "#Number of data points\n",
        "data_params['N'] = 20\n",
        "\n",
        "#Initialise the amount of Noise\n",
        "data_params['noise'] = 1\n",
        "\n",
        "#Initialise the Basis\n",
        "hyper_params['func'] = 'Poly'\n",
        "\n",
        "#Model Order and Trial Order\n",
        "data_params['true_order'] = 5\n",
        "order = 5\n",
        "hyper_params['order_min'] = order\n",
        "hyper_params['order_max'] = order + 1\n",
        "\n",
        "#Randomly initialise a true weight vector\n",
        "data_params['w_true'] = np.array( [-10.18936858, -10.16872548, -17.06492541,  27.73698441 , 11.97203305])\n",
        "\n",
        "#Regularization \n",
        "hyper_params['alpha'] = 0.01\n",
        "data_params['extrapolation_range'] = 0.01\n",
        "\n",
        "dfm,x_data, y_data = Prediction_Linear_Reg(data_params, hyper_params)\n",
        "\n",
        "#Plot the data points\n",
        "sns.scatterplot(x = x_data, y = y_data);\n",
        "sns.lineplot(x=\"x\", y=\"y\", hue='Type', data=dfm[ dfm['Type'] == str(order) + ' ols'  ]  );"
      ],
      "metadata": {
        "colab": {
          "base_uri": "https://localhost:8080/"
        },
        "id": "lRf-5-ftPdJy",
        "outputId": "0f721a13-88c2-4fdb-bf66-289f1568febf",
        "cellView": "form"
      },
      "execution_count": null,
      "outputs": [
        {
          "output_type": "display_data",
          "data": {
            "text/plain": [
              "<Figure size 432x288 with 1 Axes>"
            ],
            "image/png": "[encoded data removed]"
          },
          "metadata": {
            "needs_background": "light"
          }
        }
      ]
    },
    {
      "cell_type": "markdown",
      "source": [
        "If we know the order of the model, i.e how many terms are in the basis - $\\phi$, a normal least squares loss function works perfectly fine.\n",
        "\n",
        "But this is not always the case, most of the time we don't know what the basis should be. If we end up choosing the order of our basis to be too high we can end up **overfitting** and if we choose too low we end up **underfitting**.\n",
        "\n",
        "Almost all the time we end up overfitting, as we aim to choose a model which can generalise well so we want to choose a reasonably large order. So how does the least squares method perform when the order of choice is much larger than the true order. \n",
        "\n"
      ],
      "metadata": {
        "id": "xeA-ikUXWwVa"
      }
    },
    {
      "cell_type": "code",
      "source": [
        "#@title\n",
        "order = 20\n",
        "hyper_params['order_min'] = order\n",
        "hyper_params['order_max'] = order + 1\n",
        "dfm,x_data, y_data = Prediction_Linear_Reg(data_params, hyper_params)\n",
        "\n",
        "#Plot the data points\n",
        "sns.scatterplot(x = x_data, y = y_data);\n",
        "sns.lineplot(x=\"x\", y=\"y\", hue='Type', data=dfm[ dfm['Type'] == str(order) + ' ols'  ]  );"
      ],
      "metadata": {
        "colab": {
          "base_uri": "https://localhost:8080/"
        },
        "id": "l0oYLzJ4m1Bk",
        "outputId": "224b4c89-c20d-4b0c-af26-c7492bba2638",
        "cellView": "form"
      },
      "execution_count": null,
      "outputs": [
        {
          "output_type": "display_data",
          "data": {
            "text/plain": [
              "<Figure size 432x288 with 1 Axes>"
            ],
            "image/png": "[encoded data removed]"
          },
          "metadata": {
            "needs_background": "light"
          }
        }
      ]
    },
    {
      "cell_type": "markdown",
      "source": [
        "Not very well at all, the model is now learning the noise of the data and is terrible at extrapolating. So we need to make some changes. \n",
        "\n",
        "#Regularization\n",
        "\n",
        "One thing we can do to prevent this is to use a factor in our loss function which scales with the number of model parameters we have.\n",
        "\n",
        "A classic example is the L2 Loss:\n",
        "\\begin{equation}\n",
        "L = \\sum_{i=1}^N{(w^Tx_i - y_i)^2} + \\alpha \\sum_{j=1}^{n}{w_j^2}\n",
        "\\end{equation}\n",
        "\n",
        "Another one is the L1 loss (LASSO):\n",
        "\\begin{equation}\n",
        "L = \\sum_{i=1}^N{(w^Tx_i - y_i)^2} + \\alpha \\sum_{j=1}^{n}{|w_j|}\n",
        "\\end{equation}\n",
        "\n",
        "In general L1 encourages sparsity and so can result in more simpler and better models but minimizing it is much more difficult than with L2, so for more larger datasets L2 is normally better.\n",
        "\n",
        "Here $λ$ is known as a hyperparameter and we can choose its value - often we do an optimization to find the best $λ$.\n",
        "\n",
        "This loss penalizes many values of $w$ and thus forces our model to be as simple as possible whilst still explaining the majority of the model.\n"
      ],
      "metadata": {
        "id": "pb8zl2-rS_tu"
      }
    },
    {
      "cell_type": "code",
      "source": [
        "#@title\n",
        "order = 20\n",
        "hyper_params['order_min'] = order\n",
        "hyper_params['order_max'] = order + 1\n",
        "dfm,x_data, y_data = Prediction_Linear_Reg(data_params, hyper_params)\n",
        "\n",
        "#Plot the data points\n",
        "sns.scatterplot(x = x_data, y = y_data);\n",
        "sns.lineplot(x=\"x\", y=\"y\", hue='Type', data=dfm[ dfm['Type'] == str(order) + ' L2'  ]  );"
      ],
      "metadata": {
        "colab": {
          "base_uri": "https://localhost:8080/",
          "height": 334
        },
        "cellView": "form",
        "id": "9YQ3YnxfnKdq",
        "outputId": "54ea0d56-4032-4ed0-cbf3-b4d90237ffde"
      },
      "execution_count": null,
      "outputs": [
        {
          "output_type": "stream",
          "name": "stderr",
          "text": [
            "/usr/local/lib/python3.8/dist-packages/sklearn/linear_model/_coordinate_descent.py:647: ConvergenceWarning: Objective did not converge. You might want to increase the number of iterations, check the scale of the features or consider increasing regularisation. Duality gap: 1.853e-01, tolerance: 4.898e-02\n",
            "  model = cd_fast.enet_coordinate_descent(\n"
          ]
        },
        {
          "output_type": "display_data",
          "data": {
            "text/plain": [
              "<Figure size 432x288 with 1 Axes>"
            ],
            "image/png": "[encoded data removed]"
          },
          "metadata": {
            "needs_background": "light"
          }
        }
      ]
    },
    {
      "cell_type": "code",
      "source": [
        "#@title\n",
        "order = 20\n",
        "hyper_params['order_min'] = order\n",
        "hyper_params['order_max'] = order + 1\n",
        "dfm,x_data, y_data = Prediction_Linear_Reg(data_params, hyper_params)\n",
        "\n",
        "#Plot the data points\n",
        "sns.scatterplot(x = x_data, y = y_data);\n",
        "sns.lineplot(x=\"x\", y=\"y\", hue='Type', data=dfm[ dfm['Type'] == str(order) + ' L1'  ]  );"
      ],
      "metadata": {
        "colab": {
          "base_uri": "https://localhost:8080/",
          "height": 338
        },
        "id": "AbSCiI_xnTqh",
        "outputId": "ea9baf47-bf80-4c2b-b19a-da84691fa3f9",
        "cellView": "form"
      },
      "execution_count": null,
      "outputs": [
        {
          "output_type": "stream",
          "name": "stderr",
          "text": [
            "/usr/local/lib/python3.8/dist-packages/sklearn/linear_model/_coordinate_descent.py:647: ConvergenceWarning: Objective did not converge. You might want to increase the number of iterations, check the scale of the features or consider increasing regularisation. Duality gap: 6.377e-02, tolerance: 4.765e-02\n",
            "  model = cd_fast.enet_coordinate_descent(\n"
          ]
        },
        {
          "output_type": "display_data",
          "data": {
            "text/plain": [
              "<Figure size 432x288 with 1 Axes>"
            ],
            "image/png": "[encoded data removed]"
          },
          "metadata": {
            "needs_background": "light"
          }
        }
      ]
    },
    {
      "cell_type": "markdown",
      "source": [
        "Great !! Now our model still does well even when we chose our model order to be too high. But we still need to select the right $\\alpha$ - the regularization hyperparameter"
      ],
      "metadata": {
        "id": "PVgUnuFfn56x"
      }
    },
    {
      "cell_type": "code",
      "source": [
        "#@title\n",
        "alpha = 100\n",
        "order = 20\n",
        "dfm,x_data, y_data = Prediction_Linear_Reg(data_params, hyper_params)\n",
        "\n",
        "#Plot the data points\n",
        "sns.scatterplot(x = x_data, y = y_data);\n",
        "sns.lineplot(x=\"x\", y=\"y\", hue='Type', data=dfm[ dfm['Type'] == str(order) + ' L2'  ]  );"
      ],
      "metadata": {
        "id": "XKwYwcYasv8H",
        "colab": {
          "base_uri": "https://localhost:8080/",
          "height": 279
        },
        "cellView": "form",
        "outputId": "0110001e-76c4-4943-fe9a-e55ce427674d"
      },
      "execution_count": null,
      "outputs": [
        {
          "output_type": "display_data",
          "data": {
            "text/plain": [
              "<Figure size 432x288 with 1 Axes>"
            ],
            "image/png": "[encoded data removed]"
          },
          "metadata": {
            "needs_background": "light"
          }
        }
      ]
    },
    {
      "cell_type": "markdown",
      "source": [
        "Because hoosing an $\\alpha$ which is too high results in underfitting and too low results in overfitting (the regularization is negligable and we return to least squares)"
      ],
      "metadata": {
        "id": "Lc-OVI2JtALu"
      }
    },
    {
      "cell_type": "markdown",
      "source": [
        "#Hyperparameter Tuning\n",
        "Another key part of machine learning, and is used in almost all cases. It goes as follows\n",
        "\n",
        "\n",
        "1.   Split up the data into training and test data, a widely used split is 80% training and 20% testing\n",
        "2.   Train the model on the training data\n",
        "3. Evaluate the accuracy of the model on the testing data set\n",
        "4. Choose the hyperparameter which has the best accuracy for the test set.\n",
        "\n",
        "Finding the correct hyperparameter is not trivial, a simple method would be to do a grid search and then choose the best point on the grid.\n",
        "\n"
      ],
      "metadata": {
        "id": "FVB0g88WqDzC"
      }
    },
    {
      "cell_type": "code",
      "source": [
        "#@title\n",
        "from sklearn import metrics\n",
        "import matplotlib.pyplot as plt\n",
        "\n",
        "alpha = np.logspace(-4,1,100)\n",
        "error_l1 = np.zeros(len(alpha))\n",
        "error_l2 = np.zeros(len(alpha))\n",
        "\n",
        "x_train = x_data[:15]\n",
        "y_train = y_data[:15]\n",
        "\n",
        "x_test = x_data[-5:]\n",
        "y_test = y_data[-5:]\n",
        "\n",
        "phi_test = np.zeros( (order, len(x_test)) )\n",
        "\n",
        "#Evaluate the phi matrix for a given Basis\n",
        "for j in range(order):\n",
        "  phi_test[j] = Basis(hyper_params['func'], x_test, j)\n",
        "\n",
        "for i in range(len(alpha)):\n",
        "  [w_ols, w_l2, w_l1] = EstimateWeights(x_train, y_train, hyper_params['func'], order, alpha[i])\n",
        "  y_l1 = w_l1.predict(np.transpose(phi_test))\n",
        "  y_l2 = w_l2.predict(np.transpose(phi_test))\n",
        "  error_l1[i] = metrics.mean_squared_error(y_test,y_l1)\n",
        "  error_l2[i] = metrics.mean_squared_error(y_test,y_l2)"
      ],
      "metadata": {
        "id": "MsST2f-4zT_7",
        "cellView": "form"
      },
      "execution_count": null,
      "outputs": []
    },
    {
      "cell_type": "code",
      "source": [
        "#@title\n",
        "plt.xscale('log')\n",
        "plt.title('Hyperparam Tuning for L2')\n",
        "plt.xlabel('alpha')\n",
        "plt.ylabel('Mean Square Error')\n",
        "plt.plot(alpha, error_l2);\n",
        "print('Optimal Value of alpha is: ' + str(alpha[np.argmin(error_l2)]))"
      ],
      "metadata": {
        "colab": {
          "base_uri": "https://localhost:8080/",
          "height": 316
        },
        "cellView": "form",
        "id": "fP6tpAzcKbxm",
        "outputId": "df5793b6-251f-49bc-fd8d-5e203fae11eb"
      },
      "execution_count": null,
      "outputs": [
        {
          "output_type": "stream",
          "name": "stdout",
          "text": [
            "Optimal Value of alpha is: 0.05994842503189409\n"
          ]
        },
        {
          "output_type": "display_data",
          "data": {
            "text/plain": [
              "<Figure size 432x288 with 1 Axes>"
            ],
            "image/png": "[encoded data removed]"
          },
          "metadata": {
            "needs_background": "light"
          }
        }
      ]
    },
    {
      "cell_type": "code",
      "source": [
        "#@title\n",
        "plt.xscale('log')\n",
        "plt.title('Hyperparam Tuning for L1')\n",
        "\n",
        "plt.xlabel('alpha')\n",
        "plt.ylabel('Mean Square Error')\n",
        "plt.plot(alpha, error_l1);\n",
        "print('Optimal Value of alpha is: ' + str(alpha[np.argmin(error_l1)]))"
      ],
      "metadata": {
        "colab": {
          "base_uri": "https://localhost:8080/",
          "height": 316
        },
        "id": "QeEY4XnSKeSm",
        "outputId": "6a18e161-371d-4dfc-d804-6127dc7a1423",
        "cellView": "form"
      },
      "execution_count": null,
      "outputs": [
        {
          "output_type": "stream",
          "name": "stdout",
          "text": [
            "Optimal Value of alpha is: 0.004641588833612782\n"
          ]
        },
        {
          "output_type": "display_data",
          "data": {
            "text/plain": [
              "<Figure size 432x288 with 1 Axes>"
            ],
            "image/png": "[encoded data removed]"
          },
          "metadata": {
            "needs_background": "light"
          }
        }
      ]
    },
    {
      "cell_type": "markdown",
      "source": [
        "#Kernels\n",
        "When we have a multidimensional input writing a feature vecotr $\\phi$ can become very difficult - we have to consider all the options i.e for a polynomial feature $\\phi = [1 , x_1, x_2 ,x_1x_2 ,x_1^2 ,x_2^2]$. We can make our lives easier and even use an 'infinitely long (RBF)' feature vector by using kernels.\n",
        "\n",
        "In effect a kernel is a clever and simple way to write a complicated feature vector.\n",
        "\n",
        "https://www.cs.toronto.edu/~duvenaud/cookbook/\n"
      ],
      "metadata": {
        "id": "p2qAX9eV1LNF"
      }
    }
  ]
}